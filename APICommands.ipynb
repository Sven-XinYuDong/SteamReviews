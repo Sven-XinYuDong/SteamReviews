{
 "cells": [
  {
   "cell_type": "code",
   "execution_count": 3,
   "id": "28ee5e21-7558-4926-b8f0-4c8cf0a842e5",
   "metadata": {},
   "outputs": [
    {
     "name": "stderr",
     "output_type": "stream",
     "text": [
      "/Users/matthewyau/opt/anaconda3/lib/python3.9/site-packages/requests/__init__.py:102: RequestsDependencyWarning: urllib3 (1.26.9) or chardet (5.1.0)/charset_normalizer (2.0.4) doesn't match a supported version!\n",
      "  warnings.warn(\"urllib3 ({}) or chardet ({})/charset_normalizer ({}) doesn't match a supported \"\n"
     ]
    }
   ],
   "source": [
    "import pandas as pd\n",
    "import requests\n",
    "from bs4 import BeautifulSoup"
   ]
  },
  {
   "cell_type": "markdown",
   "id": "10ca0ebe-8c9b-404e-8e51-d0b31f4542f1",
   "metadata": {},
   "source": [
    "Get what games a user has used."
   ]
  },
  {
   "cell_type": "code",
   "execution_count": 3,
   "id": "9b4642b5-50fc-4888-ae1c-6e5d7cea83d9",
   "metadata": {},
   "outputs": [],
   "source": [
    "#requests.get(\"https://api.steampowered.com/IPlayerService/GetOwnedGames/v0001/?key=3D41F12368AF3E305A8233ABFB965CA2&steamid=76561197996661065&include_appinfo=1&format=json\").json()"
   ]
  },
  {
   "cell_type": "markdown",
   "id": "ddb2929c-dfee-4a0f-8adb-591fd6d7fafb",
   "metadata": {},
   "source": [
    "Get game achievement skeleton"
   ]
  },
  {
   "cell_type": "code",
   "execution_count": 4,
   "id": "d091011e-1f77-4df3-a05f-ac93fa954bdd",
   "metadata": {},
   "outputs": [],
   "source": [
    "#requests.get(\"https://api.steampowered.com/ISteamUserStats/GetSchemaForGame/v2/?key=3D41F12368AF3E305A8233ABFB965CA2&appid=779340\")"
   ]
  },
  {
   "cell_type": "markdown",
   "id": "6d45af04-4d67-4813-9936-26b4207789b8",
   "metadata": {},
   "source": [
    "Get user friend list"
   ]
  },
  {
   "cell_type": "code",
   "execution_count": 5,
   "id": "dbda3c4c-177b-46fa-83d6-089410a415ab",
   "metadata": {},
   "outputs": [
    {
     "data": {
      "text/plain": [
       "<Response [200]>"
      ]
     },
     "execution_count": 5,
     "metadata": {},
     "output_type": "execute_result"
    }
   ],
   "source": [
    "requests.get(\" http://api.steampowered.com/ISteamUser/GetFriendList/v0001/?key=3D41F12368AF3E305A8233ABFB965CA2&steamid=76561197996661065&relationship=friend\")"
   ]
  },
  {
   "cell_type": "markdown",
   "id": "ca80d1bb-896a-42bf-87da-b5eeac19a026",
   "metadata": {},
   "source": [
    "Get summary information about profile (e.g. avatar picture)"
   ]
  },
  {
   "cell_type": "code",
   "execution_count": 6,
   "id": "dbd6bfcd-1110-4d08-ac2c-d30ef113eb3b",
   "metadata": {},
   "outputs": [
    {
     "data": {
      "text/plain": [
       "'{\"response\":{\"players\":[{\"steamid\":\"76561197996661065\",\"communityvisibilitystate\":3,\"profilestate\":1,\"personaname\":\"matt\",\"profileurl\":\"https://steamcommunity.com/profiles/76561197996661065/\",\"avatar\":\"https://avatars.akamai.steamstatic.com/4e8b51836c2f8b2760167c561d315efef8f95d4c.jpg\",\"avatarmedium\":\"https://avatars.akamai.steamstatic.com/4e8b51836c2f8b2760167c561d315efef8f95d4c_medium.jpg\",\"avatarfull\":\"https://avatars.akamai.steamstatic.com/4e8b51836c2f8b2760167c561d315efef8f95d4c_full.jpg\",\"avatarhash\":\"4e8b51836c2f8b2760167c561d315efef8f95d4c\",\"lastlogoff\":1675230907,\"personastate\":0,\"primaryclanid\":\"103582791429521408\",\"timecreated\":1203347616,\"personastateflags\":0}]}}'"
      ]
     },
     "execution_count": 6,
     "metadata": {},
     "output_type": "execute_result"
    }
   ],
   "source": [
    "requests.get(\"http://api.steampowered.com/ISteamUser/GetPlayerSummaries/v0002/?key=3D41F12368AF3E305A8233ABFB965CA2&steamids=76561197996661065\").text"
   ]
  },
  {
   "cell_type": "markdown",
   "id": "404420f8-06e0-4651-a04f-b15e03e10dc5",
   "metadata": {},
   "source": [
    "Get full list of games and appids in steam\n",
    "\n",
    "For tags, see https://stackoverflow.com/questions/61419374/get-steam-games-of-a-certain-genre"
   ]
  },
  {
   "cell_type": "code",
   "execution_count": 52,
   "id": "006b9d75-3565-4e8a-8c7a-b496d87ab565",
   "metadata": {},
   "outputs": [
    {
     "data": {
      "text/plain": [
       "<Response [200]>"
      ]
     },
     "execution_count": 52,
     "metadata": {},
     "output_type": "execute_result"
    }
   ],
   "source": [
    "requests.get(\"https://api.steampowered.com/ISteamApps/GetAppList/v2/\")"
   ]
  },
  {
   "cell_type": "markdown",
   "id": "b78d4c96-40cb-41e6-984e-1af216864d59",
   "metadata": {},
   "source": [
    "Get featured items on sale..."
   ]
  },
  {
   "cell_type": "code",
   "execution_count": 53,
   "id": "acf61ff3-7180-48a9-a2d0-9d3bfe8d6494",
   "metadata": {},
   "outputs": [
    {
     "data": {
      "text/plain": [
       "<Response [200]>"
      ]
     },
     "execution_count": 53,
     "metadata": {},
     "output_type": "execute_result"
    }
   ],
   "source": [
    "requests.get(\"http://store.steampowered.com/api/featuredcategories/?l=english\")"
   ]
  },
  {
   "cell_type": "markdown",
   "id": "8a9a3bc4-1dec-4470-bf65-aa0b3a30488b",
   "metadata": {},
   "source": [
    "Get reviews for a game"
   ]
  },
  {
   "cell_type": "code",
   "execution_count": 54,
   "id": "def4842f-6466-497a-a091-b6ac140f60af",
   "metadata": {},
   "outputs": [
    {
     "data": {
      "text/plain": [
       "<Response [200]>"
      ]
     },
     "execution_count": 54,
     "metadata": {},
     "output_type": "execute_result"
    }
   ],
   "source": [
    "requests.get(\"https://store.steampowered.com/appreviews/413150?json=1\")"
   ]
  },
  {
   "cell_type": "markdown",
   "id": "a9cfb981-977f-4da7-9990-6650331ea02d",
   "metadata": {},
   "source": [
    "Get details about a game"
   ]
  },
  {
   "cell_type": "code",
   "execution_count": 55,
   "id": "f3db316d-d5eb-49fc-a88c-94934c71abd8",
   "metadata": {},
   "outputs": [],
   "source": [
    "#requests.get(\"https://store.steampowered.com/api/appdetails/?appids=105600&cc=EE&l=english&v=1 HTTP/1.1\" \"-\" \"Valve/Steam HTTP Client 1.0 (tenfoot)\").json()[\"105600\"][\"data\"]"
   ]
  },
  {
   "cell_type": "markdown",
   "id": "7929fe1e-d85a-446d-8d95-5903f57a5008",
   "metadata": {},
   "source": [
    "Get price history of a game"
   ]
  },
  {
   "cell_type": "code",
   "execution_count": 56,
   "id": "e97a5d6b-4171-448f-8820-b6cb68e2d17e",
   "metadata": {},
   "outputs": [],
   "source": [
    "#BeautifulSoup(requests.get(\"https://steampricehistory.com/app/779340\").text).find_all(\"td\")"
   ]
  },
  {
   "cell_type": "markdown",
   "id": "f2acbe9d-3784-4609-98b6-89da5caf64f8",
   "metadata": {},
   "source": [
    "Get percentage of people who have completed achievements..."
   ]
  },
  {
   "cell_type": "code",
   "execution_count": 57,
   "id": "4f385817-764f-4b00-a606-2e621e009eef",
   "metadata": {},
   "outputs": [],
   "source": [
    "#requests.get(\"https://api.steampowered.com/ISteamUserStats/GetGlobalAchievementPercentagesForApp/v2/?gameid=534380\").text"
   ]
  },
  {
   "cell_type": "markdown",
   "id": "284b5677-f0b2-47d4-a203-02577bbf371b",
   "metadata": {},
   "source": [
    "Get price of a list of games"
   ]
  },
  {
   "cell_type": "code",
   "execution_count": 58,
   "id": "b7a7e536-5413-4fd9-938f-efe3e4abdaa8",
   "metadata": {},
   "outputs": [],
   "source": [
    "#requests.get(\"https://store.steampowered.com/api/appdetails/?appids=32330,49520,105600&filters=price_overview\").text"
   ]
  },
  {
   "cell_type": "markdown",
   "id": "8d060982-5027-4096-b867-33cb37abd5d8",
   "metadata": {},
   "source": [
    "Get recommended games for a person, long list."
   ]
  },
  {
   "cell_type": "code",
   "execution_count": 59,
   "id": "3f6b1dd0-71ff-41b0-a359-06a539070a79",
   "metadata": {},
   "outputs": [],
   "source": [
    "#requests.get(\"https://api.steampowered.com/IStoreService/GetAppList/v1/?key=3D41F12368AF3E305A8233ABFB965CA2\").json()"
   ]
  },
  {
   "cell_type": "markdown",
   "id": "9f545d71-df6b-43c1-9af5-6bdca5eaf7db",
   "metadata": {},
   "source": [
    "Get current number of players playing a game."
   ]
  },
  {
   "cell_type": "code",
   "execution_count": 60,
   "id": "0b506bae-aeb6-4768-a37c-32beb9883507",
   "metadata": {},
   "outputs": [
    {
     "data": {
      "text/plain": [
       "'{\"response\":{\"player_count\":5107,\"result\":1}}'"
      ]
     },
     "execution_count": 60,
     "metadata": {},
     "output_type": "execute_result"
    }
   ],
   "source": [
    "requests.get(\"https://api.steampowered.com/ISteamUserStats/GetNumberOfCurrentPlayers/v1/?appid=779340\").text"
   ]
  },
  {
   "cell_type": "markdown",
   "id": "b0aba462-bb73-446f-bc7a-1d5c041cdaa5",
   "metadata": {},
   "source": [
    "Get steamID of player name\n"
   ]
  },
  {
   "cell_type": "code",
   "execution_count": 6,
   "id": "4c20519a-8330-4ef0-9681-792afb111b8b",
   "metadata": {},
   "outputs": [
    {
     "data": {
      "text/plain": [
       "'{\"response\":{\"steamid\":\"76561198069958454\",\"success\":1}}'"
      ]
     },
     "execution_count": 6,
     "metadata": {},
     "output_type": "execute_result"
    }
   ],
   "source": [
    "requests.get(\"http://api.steampowered.com/ISteamUser/ResolveVanityURL/v0001/?key=3D41F12368AF3E305A8233ABFB965CA2&vanityurl=userVanityUrlName\").text"
   ]
  },
  {
   "cell_type": "code",
   "execution_count": null,
   "id": "159f2d71-8587-4123-b100-8f7b557b977f",
   "metadata": {},
   "outputs": [],
   "source": []
  }
 ],
 "metadata": {
  "kernelspec": {
   "display_name": "Python 3 (ipykernel)",
   "language": "python",
   "name": "python3"
  },
  "language_info": {
   "codemirror_mode": {
    "name": "ipython",
    "version": 3
   },
   "file_extension": ".py",
   "mimetype": "text/x-python",
   "name": "python",
   "nbconvert_exporter": "python",
   "pygments_lexer": "ipython3",
   "version": "3.9.12"
  }
 },
 "nbformat": 4,
 "nbformat_minor": 5
}
