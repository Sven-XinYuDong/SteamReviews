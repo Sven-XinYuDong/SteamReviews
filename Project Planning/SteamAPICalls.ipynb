{
 "cells": [
  {
   "cell_type": "code",
   "execution_count": 152,
   "id": "5032228a-a290-4f1d-8c28-4a074a64215b",
   "metadata": {},
   "outputs": [],
   "source": [
    "#https://geezam.com/steam-api-with-python/\n",
    "#https://pypi.org/project/python-steam-api/\n",
    "import requests "
   ]
  },
  {
   "cell_type": "code",
   "execution_count": 153,
   "id": "0bd5450c-452a-47e3-9caa-16940000924c",
   "metadata": {},
   "outputs": [],
   "source": [
    "steamKey = \"3D41F12368AF3E305A8233ABFB965CA2\"\n",
    "steamID = \"76561197996661065\"\n",
    "\n",
    "\n",
    "\n",
    "#The template response: "
   ]
  },
  {
   "cell_type": "code",
   "execution_count": 154,
   "id": "45b41ae0-919f-4af1-849e-52e4823fe6fe",
   "metadata": {},
   "outputs": [
    {
     "data": {
      "text/plain": [
       "'https://api.steampowered.com/IPlayerService/GetOwnedGames/v0001/?key=3D41F12368AF3E305A8233ABFB965CA2&steamid=76561197996661065&include_appinfo=1&format=json'"
      ]
     },
     "execution_count": 154,
     "metadata": {},
     "output_type": "execute_result"
    }
   ],
   "source": [
    "slink1 = \"https://api.steampowered.com/IPlayerService/GetOwnedGames/v0001/?key=\"\n",
    "slink2 = \"&steamid=\" + steamID + \"&include_appinfo=1&format=json\"\n",
    "slink = slink1 + steamKey + slink2\n",
    "slink"
   ]
  },
  {
   "cell_type": "code",
   "execution_count": null,
   "id": "26be740a-c3d0-4665-aa28-0588224f151a",
   "metadata": {},
   "outputs": [],
   "source": []
  },
  {
   "cell_type": "code",
   "execution_count": 155,
   "id": "5011607c-2457-41f9-9f4f-4ab62c8bbe23",
   "metadata": {},
   "outputs": [],
   "source": [
    "#requests.get(slink).json()"
   ]
  },
  {
   "cell_type": "code",
   "execution_count": 156,
   "id": "78a1cebc-6e7f-4e85-9610-f018aa51d16e",
   "metadata": {},
   "outputs": [],
   "source": [
    "#Shooting games: 1000 hours\n",
    "#Adventure game: 500 hours\n",
    "\n",
    "#1. Shooting\n",
    "#2. Adventure"
   ]
  },
  {
   "cell_type": "code",
   "execution_count": 157,
   "id": "0e4e627c-7e91-484a-8420-f9b80a24ca5b",
   "metadata": {},
   "outputs": [],
   "source": [
    "url = \"http://api.steampowered.com/ISteamUserStats/GetUserStatsForGame/v0002/?appid=105600&key=3D41F12368AF3E305A8233ABFB965CA2&steamid=76561197996661065\""
   ]
  },
  {
   "cell_type": "code",
   "execution_count": 159,
   "id": "581b3d44-bdd5-4978-ad6a-e731db717345",
   "metadata": {},
   "outputs": [],
   "source": [
    "url2 = \"http://api.steampowered.com/ISteamUserStats/GetGlobalAchievementPercentagesForApp/v0002/?gameid=105600&format=json\""
   ]
  },
  {
   "cell_type": "code",
   "execution_count": 162,
   "id": "8cb53c65-fdd7-4d41-8338-4f9fd166dba7",
   "metadata": {},
   "outputs": [
    {
     "data": {
      "text/plain": [
       "'{}'"
      ]
     },
     "execution_count": 162,
     "metadata": {},
     "output_type": "execute_result"
    }
   ],
   "source": [
    "requests.get(url).text\n",
    "#requests.get(url2).json()"
   ]
  },
  {
   "cell_type": "code",
   "execution_count": 140,
   "id": "1bc069a7-4379-43a9-908a-0a40c38d87aa",
   "metadata": {},
   "outputs": [
    {
     "ename": "NameError",
     "evalue": "name 'url3' is not defined",
     "output_type": "error",
     "traceback": [
      "\u001b[0;31m---------------------------------------------------------------------------\u001b[0m",
      "\u001b[0;31mNameError\u001b[0m                                 Traceback (most recent call last)",
      "Input \u001b[0;32mIn [140]\u001b[0m, in \u001b[0;36m<cell line: 1>\u001b[0;34m()\u001b[0m\n\u001b[0;32m----> 1\u001b[0m requests\u001b[38;5;241m.\u001b[39mget(\u001b[43murl3\u001b[49m)\u001b[38;5;241m.\u001b[39mtext\n",
      "\u001b[0;31mNameError\u001b[0m: name 'url3' is not defined"
     ]
    }
   ],
   "source": [
    "requests.get(url3).text"
   ]
  },
  {
   "cell_type": "code",
   "execution_count": null,
   "id": "8131fcd6-3740-4132-9074-e45a60f00648",
   "metadata": {},
   "outputs": [],
   "source": [
    "url4 = \"https://api.steampowered.com/ISteamApps/GetAppList/v2/\""
   ]
  },
  {
   "cell_type": "code",
   "execution_count": null,
   "id": "d358b27c-0bf2-4979-82c3-f598564c9a56",
   "metadata": {},
   "outputs": [],
   "source": [
    "theDict = requests.get(url4).json()[\"applist\"][\"apps\"]"
   ]
  },
  {
   "cell_type": "code",
   "execution_count": null,
   "id": "5a98beeb-53f2-4207-8153-39231454e31e",
   "metadata": {},
   "outputs": [
    {
     "data": {
      "text/plain": [
       "range(0, 154694)"
      ]
     },
     "execution_count": 143,
     "metadata": {},
     "output_type": "execute_result"
    }
   ],
   "source": [
    "range(len(theDict))"
   ]
  },
  {
   "cell_type": "code",
   "execution_count": 88,
   "id": "dbb36d45-cdb9-404a-b51e-c16eba464ba2",
   "metadata": {},
   "outputs": [
    {
     "name": "stdin",
     "output_type": "stream",
     "text": [
      "Please enter game name The Witcher 3: Wild Hunt\n"
     ]
    },
    {
     "name": "stdout",
     "output_type": "stream",
     "text": [
      "292030\n"
     ]
    }
   ],
   "source": [
    "specifyGame = str(input(\"Please enter game name\"))\n",
    "\n",
    "for i in range(len(theDict)):\n",
    "    if specifyGame.lower() == theDict[i][\"name\"].lower():\n",
    "        print(theDict[i][\"appid\"])\n",
    "        break"
   ]
  },
  {
   "cell_type": "code",
   "execution_count": 51,
   "id": "b939e420-f086-4cf8-a8b5-1d81297a0e0f",
   "metadata": {},
   "outputs": [
    {
     "name": "stdin",
     "output_type": "stream",
     "text": [
      "Please enter game name asdf\n"
     ]
    }
   ],
   "source": [
    "specifyGame = str(input(\"Please enter game name\"))"
   ]
  },
  {
   "cell_type": "code",
   "execution_count": 48,
   "id": "6b85d6dc-8f3e-477c-8ac5-02045dc234e0",
   "metadata": {},
   "outputs": [
    {
     "name": "stdout",
     "output_type": "stream",
     "text": [
      "2229200\n"
     ]
    }
   ],
   "source": [
    "if \"Crusader Kings\" in requests.get(url4).json()[\"applist\"][\"apps\"][40][\"name\"]:\n",
    "    print(requests.get(url4).json()[\"applist\"][\"apps\"][40][\"appid\"])\n",
    "    "
   ]
  },
  {
   "cell_type": "code",
   "execution_count": 122,
   "id": "c1d6c5bf-87f2-4138-9895-0d9355ac4ded",
   "metadata": {},
   "outputs": [],
   "source": [
    "url7 = \"http://store.steampowered.com/api/featuredcategories/?l=english\""
   ]
  },
  {
   "cell_type": "code",
   "execution_count": 131,
   "id": "303021c8-0020-4754-897f-e7d9640920d9",
   "metadata": {},
   "outputs": [
    {
     "data": {
      "text/plain": [
       "dict_keys(['id', 'name', 'items'])"
      ]
     },
     "execution_count": 131,
     "metadata": {},
     "output_type": "execute_result"
    }
   ],
   "source": [
    "requests.get(url7).json()[\"top_sellers\"]"
   ]
  },
  {
   "cell_type": "code",
   "execution_count": 90,
   "id": "4e09cff1-b0d3-4220-8676-526702137ec5",
   "metadata": {},
   "outputs": [],
   "source": [
    "url6 = \"https://store.steampowered.com/appreviews/413150?json=1\""
   ]
  },
  {
   "cell_type": "code",
   "execution_count": 132,
   "id": "062846f7-e93c-49cb-b8ce-b184ddb4af7c",
   "metadata": {},
   "outputs": [],
   "source": [
    "#requests.get(url6).text"
   ]
  },
  {
   "cell_type": "code",
   "execution_count": null,
   "id": "10fb5c8d-0d0f-4283-982f-4ff78904dca5",
   "metadata": {},
   "outputs": [],
   "source": []
  }
 ],
 "metadata": {
  "kernelspec": {
   "display_name": "Python 3 (ipykernel)",
   "language": "python",
   "name": "python3"
  },
  "language_info": {
   "codemirror_mode": {
    "name": "ipython",
    "version": 3
   },
   "file_extension": ".py",
   "mimetype": "text/x-python",
   "name": "python",
   "nbconvert_exporter": "python",
   "pygments_lexer": "ipython3",
   "version": "3.9.12"
  }
 },
 "nbformat": 4,
 "nbformat_minor": 5
}
