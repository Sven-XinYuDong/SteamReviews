{
 "cells": [
  {
   "cell_type": "code",
   "execution_count": 3,
   "id": "df10fd45-6c28-4993-8535-65bfa49c8ad9",
   "metadata": {},
   "outputs": [],
   "source": [
    "import SteamFunctions.SteamDataExtraction as extract"
   ]
  },
  {
   "cell_type": "code",
   "execution_count": 6,
   "id": "b2d00d40-3af0-445c-9a2a-f19200f34125",
   "metadata": {},
   "outputs": [],
   "source": [
    "data = extract.extract_data(76561197996661065)"
   ]
  },
  {
   "cell_type": "code",
   "execution_count": 10,
   "id": "ab7dc1b6-df1d-439e-aba8-480f26c1c421",
   "metadata": {},
   "outputs": [
    {
     "data": {
      "text/plain": [
       "12.99"
      ]
     },
     "execution_count": 10,
     "metadata": {},
     "output_type": "execute_result"
    }
   ],
   "source": [
    "data[\"matt\"][2][0][\"price\"]"
   ]
  },
  {
   "cell_type": "code",
   "execution_count": null,
   "id": "5eff270d-d8cc-4fce-ae82-8bf47dfb3020",
   "metadata": {},
   "outputs": [],
   "source": []
  }
 ],
 "metadata": {
  "kernelspec": {
   "display_name": "Python 3 (ipykernel)",
   "language": "python",
   "name": "python3"
  },
  "language_info": {
   "codemirror_mode": {
    "name": "ipython",
    "version": 3
   },
   "file_extension": ".py",
   "mimetype": "text/x-python",
   "name": "python",
   "nbconvert_exporter": "python",
   "pygments_lexer": "ipython3",
   "version": "3.9.12"
  }
 },
 "nbformat": 4,
 "nbformat_minor": 5
}
